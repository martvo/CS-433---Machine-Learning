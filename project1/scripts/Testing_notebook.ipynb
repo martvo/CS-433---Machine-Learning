{
 "cells": [
  {
   "cell_type": "code",
   "execution_count": 1,
   "metadata": {},
   "outputs": [],
   "source": [
    "# Useful starting lines\n",
    "%matplotlib inline\n",
    "import numpy as np\n",
    "import matplotlib.pyplot as plt\n",
    "from proj1_helpers import *\n",
    "from data_cleaning import *\n",
    "import implementations as imp\n",
    "import matplotlib.pyplot as plt\n",
    "%load_ext autoreload\n",
    "%autoreload 2\n"
   ]
  },
  {
   "cell_type": "markdown",
   "metadata": {},
   "source": [
    "# Import data"
   ]
  },
  {
   "cell_type": "code",
   "execution_count": 2,
   "metadata": {},
   "outputs": [],
   "source": [
    "y_train, x_train, ids_train = load_csv_data(\"../data/train.csv\")\n",
    "y_test, x_test, ids_test = load_csv_data(\"../data/test.csv\")"
   ]
  },
  {
   "cell_type": "code",
   "execution_count": 3,
   "metadata": {},
   "outputs": [
    {
     "data": {
      "text/plain": [
       "array([1., 1., 1., ..., 1., 1., 1.])"
      ]
     },
     "execution_count": 3,
     "metadata": {},
     "output_type": "execute_result"
    }
   ],
   "source": [
    "y_test"
   ]
  },
  {
   "cell_type": "markdown",
   "metadata": {},
   "source": [
    "# Clean test data and add features"
   ]
  },
  {
   "cell_type": "code",
   "execution_count": 4,
   "metadata": {
    "scrolled": true
   },
   "outputs": [
    {
     "name": "stdout",
     "output_type": "stream",
     "text": [
      "[[2 1 1 ... 1 0 0]]\n",
      "(250000, 29)\n",
      "0.4567790596384003\n",
      "(250000, 29)\n"
     ]
    }
   ],
   "source": [
    "NUM_JETS = 4\n",
    "\n",
    "PRI_jet_num_train = np.array([x_train[:, COLUMN_TO_DROP]]).astype(int)\n",
    "print(PRI_jet_num_train)\n",
    "del_x_train = np.delete(x_train, COLUMN_TO_DROP, axis=1)\n",
    "print(del_x_train.shape)\n",
    "\n",
    "replaced_x_train = replace_undefined_with_mean(del_x_train, UNDEFINED_VALUE)\n",
    "\n",
    "norm_x_train, train_data_mean, train_data_std = mean_std_normalization(replaced_x_train)\n",
    "\n",
    "print(norm_x_train[0][0])\n",
    "print(norm_x_train.shape)"
   ]
  },
  {
   "cell_type": "markdown",
   "metadata": {},
   "source": [
    "# Do the same for the test data"
   ]
  },
  {
   "cell_type": "code",
   "execution_count": 5,
   "metadata": {},
   "outputs": [
    {
     "name": "stdout",
     "output_type": "stream",
     "text": [
      "[[0 1 0 ... 0 1 0]]\n",
      "(1, 568238)\n",
      "(568238, 29)\n",
      "-1.0911994002397385\n",
      "(568238, 29)\n"
     ]
    }
   ],
   "source": [
    "PRI_jet_num_test = np.array([x_test[:, COLUMN_TO_DROP]]).astype(int)\n",
    "print(PRI_jet_num_test)\n",
    "print(PRI_jet_num_test.shape)\n",
    "del_x_test = np.delete(x_test, COLUMN_TO_DROP, axis=1)\n",
    "print(del_x_test.shape)\n",
    "\n",
    "replaced_x_test = replace_undefined_with_mean(del_x_test, UNDEFINED_VALUE)\n",
    "\n",
    "norm_x_test, test_data_mean, test_data_std = mean_std_normalization(replaced_x_test, train_data_mean, train_data_std)\n",
    "print(norm_x_test[0][0])\n",
    "print(norm_x_test.shape)\n",
    "\n"
   ]
  },
  {
   "cell_type": "markdown",
   "metadata": {},
   "source": [
    "# Train model"
   ]
  },
  {
   "cell_type": "code",
   "execution_count": 6,
   "metadata": {
    "scrolled": false
   },
   "outputs": [
    {
     "name": "stdout",
     "output_type": "stream",
     "text": [
      "running with degree = 9\n",
      "running with degree = 10\n",
      "running with degree = 11\n",
      "running with degree = 12\n",
      "running with degree = 13\n",
      "running with degree = 14\n"
     ]
    }
   ],
   "source": [
    "#hyperparameters\n",
    "init_w = np.ones(30)\n",
    "max_iters = 100\n",
    "gamma_list = np.logspace(-10,-4,100) #running a naive gridsearch\n",
    "degree_list = range(9,15)\n",
    "lambda_list = np.linspace(0.05,1)\n",
    "b_size = 1\n",
    "ratio = 0.5\n",
    "seed = 2\n",
    "\n",
    "best_gamma = np.zeros(4)\n",
    "best_degree = np.zeros(4,int)\n",
    "best_score = np.zeros(4)\n",
    "\n",
    "for degree in degree_list:\n",
    "    print(\"running with degree = {}\".format(degree))\n",
    "    for i in range(NUM_JETS):\n",
    "        curr_x = norm_x_train[PRI_jet_num_train[0,:]==i]\n",
    "        curr_y = y_train[PRI_jet_num_train[0,:]==i]\n",
    "\n",
    "\n",
    "        (tr_x, tr_y, te_x,te_y) = split_data(curr_x, curr_y, ratio, seed)\n",
    "        \n",
    "        px_tr = build_poly(tr_x,degree)\n",
    "        px_te = build_poly(te_x,degree)\n",
    "        \n",
    "        for gamma in gamma_list:\n",
    "\n",
    "            _, w = imp.ridge_regression(tr_y,px_tr, gamma)\n",
    "            y_validation = predict_labels(w, px_te)\n",
    "            score = sum(y_validation == te_y)/len(te_y)\n",
    "            \n",
    "            if score > best_score[i]:\n",
    "                best_gamma[i] = gamma\n",
    "                best_degree[i] = degree\n",
    "                best_score[i] = score\n"
   ]
  },
  {
   "cell_type": "markdown",
   "metadata": {},
   "source": [
    "# Test accuracy"
   ]
  },
  {
   "cell_type": "code",
   "execution_count": 7,
   "metadata": {},
   "outputs": [
    {
     "name": "stdout",
     "output_type": "stream",
     "text": [
      "0.8294332883739738\n"
     ]
    }
   ],
   "source": [
    "#calc actual score\n",
    "actual_score = 0\n",
    "for i in range(NUM_JETS):\n",
    "    actual_score = actual_score + best_score[i]*sum(PRI_jet_num_train[0,:]==i)/len(norm_x_train)\n",
    "\n",
    "print(actual_score)"
   ]
  },
  {
   "cell_type": "markdown",
   "metadata": {},
   "source": [
    "# Create submission"
   ]
  },
  {
   "cell_type": "code",
   "execution_count": 8,
   "metadata": {},
   "outputs": [],
   "source": [
    "for i in range(NUM_JETS):\n",
    "    curr_x = norm_x_train[PRI_jet_num_train[0,:]==i]\n",
    "    curr_y = y_train[PRI_jet_num_train[0,:]==i]\n",
    "    \n",
    "    px_tr = build_poly(curr_x,best_degree[i])\n",
    "    #(tr_x, tr_y, te_x,te_y) = split_data(curr_x, curr_y, 0.8, 8)\n",
    "        \n",
    "    #px_tr = build_poly(tr_x,best_degree[i])\n",
    "    #px_te = build_poly(te_x,best_degree[i])\n",
    "    _, w = imp.ridge_regression(curr_y, px_tr, best_gamma[i])\n",
    "    \n",
    "    curr_x_test = norm_x_test[PRI_jet_num_test[0,:]==i]\n",
    "    px_test = build_poly(curr_x_test,best_degree[i])\n",
    "\n",
    "    y_test[PRI_jet_num_test[0,:]==i] = predict_labels(w, px_test)\n",
    "    #y_validation = predict_labels(w, px_te)\n",
    "    #score = sum(y_validation == te_y)/len(te_y)\n",
    "    #print(score)"
   ]
  },
  {
   "cell_type": "code",
   "execution_count": 9,
   "metadata": {},
   "outputs": [],
   "source": [
    "create_csv_submission(ids_test, y_test, \"y_pred.csv\")"
   ]
  },
  {
   "cell_type": "code",
   "execution_count": 10,
   "metadata": {},
   "outputs": [
    {
     "data": {
      "text/plain": [
       "array([-1., -1., -1., ...,  1., -1., -1.])"
      ]
     },
     "execution_count": 10,
     "metadata": {},
     "output_type": "execute_result"
    }
   ],
   "source": [
    "y_test"
   ]
  },
  {
   "cell_type": "code",
   "execution_count": null,
   "metadata": {},
   "outputs": [],
   "source": []
  },
  {
   "cell_type": "code",
   "execution_count": 11,
   "metadata": {},
   "outputs": [
    {
     "name": "stdout",
     "output_type": "stream",
     "text": [
      "[7.05480231e-08 2.84803587e-05 2.65608778e-06 2.15443469e-09]\n",
      "[11 12 13 12]\n",
      "[0.84380567 0.80684515 0.83410083 0.83306262]\n"
     ]
    }
   ],
   "source": [
    "print(best_gamma)\n",
    "print(best_degree)\n",
    "print(best_score)"
   ]
  },
  {
   "cell_type": "code",
   "execution_count": 12,
   "metadata": {},
   "outputs": [
    {
     "name": "stdout",
     "output_type": "stream",
     "text": [
      "0.8294332883739738\n"
     ]
    }
   ],
   "source": [
    "#calc actual score\n",
    "actual_score = 0\n",
    "for i in range(NUM_JETS):\n",
    "    actual_score = actual_score + best_score[i]*sum(PRI_jet_num_train[0,:]==i)/len(norm_x_train)\n",
    "\n",
    "print(actual_score)"
   ]
  },
  {
   "cell_type": "code",
   "execution_count": null,
   "metadata": {},
   "outputs": [],
   "source": []
  }
 ],
 "metadata": {
  "kernelspec": {
   "display_name": "Python 3",
   "language": "python",
   "name": "python3"
  },
  "language_info": {
   "codemirror_mode": {
    "name": "ipython",
    "version": 3
   },
   "file_extension": ".py",
   "mimetype": "text/x-python",
   "name": "python",
   "nbconvert_exporter": "python",
   "pygments_lexer": "ipython3",
   "version": "3.6.5"
  }
 },
 "nbformat": 4,
 "nbformat_minor": 2
}
