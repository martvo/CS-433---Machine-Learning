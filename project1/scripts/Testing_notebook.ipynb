{
 "cells": [
  {
   "cell_type": "code",
   "execution_count": 59,
   "metadata": {},
   "outputs": [
    {
     "name": "stdout",
     "output_type": "stream",
     "text": [
      "The autoreload extension is already loaded. To reload it, use:\n",
      "  %reload_ext autoreload\n"
     ]
    }
   ],
   "source": [
    "# Useful starting lines\n",
    "%matplotlib inline\n",
    "import numpy as np\n",
    "import matplotlib.pyplot as plt\n",
    "from proj1_helpers import *\n",
    "from data_cleaning import *\n",
    "import implementations as imp\n",
    "import matplotlib.pyplot as plt\n",
    "%load_ext autoreload\n",
    "%autoreload 2\n"
   ]
  },
  {
   "cell_type": "markdown",
   "metadata": {},
   "source": [
    "# Import data"
   ]
  },
  {
   "cell_type": "code",
   "execution_count": 2,
   "metadata": {},
   "outputs": [],
   "source": [
    "y_train, x_train, ids_train = load_csv_data(\"../data/train.csv\")\n",
    "y_test, x_test, ids_test = load_csv_data(\"../data/test.csv\")"
   ]
  },
  {
   "cell_type": "code",
   "execution_count": 88,
   "metadata": {},
   "outputs": [
    {
     "data": {
      "text/plain": [
       "array([1., 1., 1., ..., 1., 1., 1.])"
      ]
     },
     "execution_count": 88,
     "metadata": {},
     "output_type": "execute_result"
    }
   ],
   "source": [
    "y_test"
   ]
  },
  {
   "cell_type": "markdown",
   "metadata": {},
   "source": [
    "# Clean test data and add features"
   ]
  },
  {
   "cell_type": "code",
   "execution_count": 60,
   "metadata": {
    "scrolled": true
   },
   "outputs": [
    {
     "name": "stdout",
     "output_type": "stream",
     "text": [
      "[[2 1 1 ... 1 0 0]]\n",
      "(250000, 29)\n",
      "0.4567790596384003\n",
      "(250000, 29)\n"
     ]
    }
   ],
   "source": [
    "NUM_JETS = 4\n",
    "\n",
    "PRI_jet_num_train = np.array([x_train[:, COLUMN_TO_DROP]]).astype(int)\n",
    "print(PRI_jet_num_train)\n",
    "del_x_train = np.delete(x_train, COLUMN_TO_DROP, axis=1)\n",
    "print(del_x_train.shape)\n",
    "\n",
    "replaced_x_train = replace_undefined_with_mean(del_x_train, UNDEFINED_VALUE)\n",
    "\n",
    "norm_x_train, train_data_mean, train_data_std = mean_std_normalization(replaced_x_train)\n",
    "\n",
    "print(norm_x_train[0][0])\n",
    "print(norm_x_train.shape)"
   ]
  },
  {
   "cell_type": "markdown",
   "metadata": {},
   "source": [
    "# Do the same for the test data"
   ]
  },
  {
   "cell_type": "code",
   "execution_count": 94,
   "metadata": {},
   "outputs": [
    {
     "name": "stdout",
     "output_type": "stream",
     "text": [
      "[[0 1 0 ... 0 1 0]]\n",
      "(1, 568238)\n",
      "(568238, 29)\n",
      "-1.0090582089055866\n",
      "(568238, 29)\n"
     ]
    }
   ],
   "source": [
    "PRI_jet_num_test = np.array([x_test[:, COLUMN_TO_DROP]]).astype(int)\n",
    "print(PRI_jet_num_test)\n",
    "print(PRI_jet_num_test.shape)\n",
    "del_x_test = np.delete(x_test, COLUMN_TO_DROP, axis=1)\n",
    "print(del_x_test.shape)\n",
    "\n",
    "replaced_x_train = replace_undefined_with_mean(del_x_test, UNDEFINED_VALUE)\n",
    "\n",
    "norm_x_test, test_data_mean, test_data_std = mean_std_normalization(replaced_x_test, train_data_mean, train_data_mean)\n",
    "print(norm_x_test[0][0])\n",
    "print(norm_x_test.shape)\n",
    "\n"
   ]
  },
  {
   "cell_type": "markdown",
   "metadata": {},
   "source": [
    "# Split data based on PRI_jet_num"
   ]
  },
  {
   "cell_type": "code",
   "execution_count": 76,
   "metadata": {},
   "outputs": [
    {
     "ename": "ValueError",
     "evalue": "could not broadcast input array from shape (99913,29) into shape (1)",
     "output_type": "error",
     "traceback": [
      "\u001b[1;31m---------------------------------------------------------------------------\u001b[0m",
      "\u001b[1;31mValueError\u001b[0m                                Traceback (most recent call last)",
      "\u001b[1;32m<ipython-input-76-05f2bfed8620>\u001b[0m in \u001b[0;36m<module>\u001b[1;34m()\u001b[0m\n\u001b[0;32m      5\u001b[0m \u001b[1;33m\u001b[0m\u001b[0m\n\u001b[0;32m      6\u001b[0m \u001b[1;32mfor\u001b[0m \u001b[0mi\u001b[0m \u001b[1;32min\u001b[0m \u001b[0mrange\u001b[0m\u001b[1;33m(\u001b[0m\u001b[0mNUM_JETS\u001b[0m\u001b[1;33m)\u001b[0m\u001b[1;33m:\u001b[0m\u001b[1;33m\u001b[0m\u001b[0m\n\u001b[1;32m----> 7\u001b[1;33m     \u001b[0mx_split_train\u001b[0m\u001b[1;33m[\u001b[0m\u001b[0mi\u001b[0m\u001b[1;33m]\u001b[0m \u001b[1;33m=\u001b[0m \u001b[0mnorm_x_train\u001b[0m\u001b[1;33m[\u001b[0m\u001b[0mPRI_jet_num_train\u001b[0m\u001b[1;33m[\u001b[0m\u001b[1;36m0\u001b[0m\u001b[1;33m,\u001b[0m\u001b[1;33m:\u001b[0m\u001b[1;33m]\u001b[0m\u001b[1;33m==\u001b[0m\u001b[0mi\u001b[0m\u001b[1;33m]\u001b[0m\u001b[1;33m\u001b[0m\u001b[0m\n\u001b[0m",
      "\u001b[1;31mValueError\u001b[0m: could not broadcast input array from shape (99913,29) into shape (1)"
     ]
    }
   ],
   "source": []
  },
  {
   "cell_type": "code",
   "execution_count": 71,
   "metadata": {},
   "outputs": [
    {
     "name": "stdout",
     "output_type": "stream",
     "text": [
      "(250000, 29)\n"
     ]
    }
   ],
   "source": [
    "#remove columns that contain only 0\n",
    "print(norm_x_train.shape)\n",
    "    "
   ]
  },
  {
   "cell_type": "markdown",
   "metadata": {},
   "source": [
    "# Train model"
   ]
  },
  {
   "cell_type": "code",
   "execution_count": 91,
   "metadata": {
    "scrolled": true
   },
   "outputs": [],
   "source": [
    "init_w = np.ones(30)\n",
    "max_iters = 100\n",
    "gamma = 0.000001\n",
    "degree = 10\n",
    "b_size = 1\n",
    "ratio = 0.8\n",
    "seed = 1\n",
    "\n",
    "for i in range(NUM_JETS):\n",
    "    \n",
    "    curr_x = norm_x_train[PRI_jet_num_train[0,:]==i]\n",
    "    curr_y = y_train[PRI_jet_num_train[0,:]==i]\n",
    "    \n",
    "    curr_x_test = norm_x_test[PRI_jet_num_test[0,:]==i]\n",
    "    \n",
    "    (tr_x, tr_y, te_x,te_y) = split_data(curr_x, curr_y, ratio, seed)\n",
    "\n",
    "    px_tr = build_poly(curr_x,degree)\n",
    "    px_te = build_poly(curr_x_test,degree)\n",
    "    \n",
    "    w_list = []\n",
    "    _, w = imp.ridge_regression(curr_y,px_tr, gamma)\n",
    "    w_list.append(w)\n",
    "    gamma = gamma + 0.000002\n",
    "\n",
    "    #TODO: PICK BEST w!!\n",
    "    y_test[PRI_jet_num_test[0,:]==i] = predict_labels(w, px_te)\n",
    "    \n"
   ]
  },
  {
   "cell_type": "markdown",
   "metadata": {},
   "source": [
    "# test accuracy"
   ]
  },
  {
   "cell_type": "code",
   "execution_count": null,
   "metadata": {},
   "outputs": [],
   "source": [
    "    \n",
    "    \n",
    "print(w_list[0].shape)\n",
    "n = len(y_pred)\n",
    "correct = 0\n",
    "for j in range(len(w_list)):\n",
    "    correct = 0\n",
    "    y_pred = predict_labels(w_list[j], px_te)\n",
    "    for i in range(n):\n",
    "        if y_pred[i] == te_y[i]:\n",
    "            correct = correct + 1\n",
    "        ratio = correct/n\n",
    "    print(j, ratio)\n",
    "\n",
    "y_pred = predict_labels(w, px_te)\n",
    "print(w_list[0].shape)\n",
    "n = len(y_pred)\n",
    "correct = 0\n",
    "ratio = []\n",
    "for j in range(len(w_list)):\n",
    "    correct = 0\n",
    "    y_pred = predict_labels(w_list[j], px_te)\n",
    "    for i in range(n):\n",
    "        if y_pred[i] == te_y[i]:\n",
    "            correct = correct + 1\n",
    "        ratio.append(correct/n)\n",
    "    #print(j, ratio)\n",
    "print(max(ratio))"
   ]
  },
  {
   "cell_type": "code",
   "execution_count": 92,
   "metadata": {},
   "outputs": [],
   "source": [
    "create_csv_submission(ids_test, y_test, \"y_pred.csv\")"
   ]
  },
  {
   "cell_type": "code",
   "execution_count": 93,
   "metadata": {},
   "outputs": [
    {
     "data": {
      "text/plain": [
       "array([-1., -1.,  1., ...,  1., -1., -1.])"
      ]
     },
     "execution_count": 93,
     "metadata": {},
     "output_type": "execute_result"
    }
   ],
   "source": [
    "y_test"
   ]
  },
  {
   "cell_type": "code",
   "execution_count": null,
   "metadata": {},
   "outputs": [],
   "source": []
  }
 ],
 "metadata": {
  "kernelspec": {
   "display_name": "Python 3",
   "language": "python",
   "name": "python3"
  },
  "language_info": {
   "codemirror_mode": {
    "name": "ipython",
    "version": 3
   },
   "file_extension": ".py",
   "mimetype": "text/x-python",
   "name": "python",
   "nbconvert_exporter": "python",
   "pygments_lexer": "ipython3",
   "version": "3.6.5"
  }
 },
 "nbformat": 4,
 "nbformat_minor": 2
}
