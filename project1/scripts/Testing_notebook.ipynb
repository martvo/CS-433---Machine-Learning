{
 "cells": [
  {
   "cell_type": "code",
   "execution_count": 1,
   "metadata": {},
   "outputs": [],
   "source": [
    "# Useful starting lines\n",
    "%matplotlib inline\n",
    "import numpy as np\n",
    "import matplotlib.pyplot as plt\n",
    "from proj1_helpers import *\n",
    "from data_cleaning import *\n",
    "import implementations as imp\n",
    "import matplotlib.pyplot as plt\n",
    "import seaborn as sns\n",
    "%load_ext autoreload\n",
    "%autoreload 2\n"
   ]
  },
  {
   "cell_type": "markdown",
   "metadata": {},
   "source": [
    "# Import data"
   ]
  },
  {
   "cell_type": "code",
   "execution_count": 2,
   "metadata": {},
   "outputs": [],
   "source": [
    "y_train, x_train, ids_train = load_csv_data(\"../data/train.csv\")\n",
    "y_test, x_test, ids_test = load_csv_data(\"../data/test.csv\")"
   ]
  },
  {
   "cell_type": "markdown",
   "metadata": {},
   "source": [
    "# Clean test data and add features"
   ]
  },
  {
   "cell_type": "code",
   "execution_count": 3,
   "metadata": {
    "scrolled": true
   },
   "outputs": [
    {
     "name": "stdout",
     "output_type": "stream",
     "text": [
      "[[2 1 1 ... 1 0 0]]\n",
      "(250000, 29)\n",
      "0.4567790596384003\n",
      "(250000, 29)\n"
     ]
    }
   ],
   "source": [
    "NUM_JETS = 4\n",
    "\n",
    "PRI_jet_num_train = np.array([x_train[:, COLUMN_TO_DROP]]).astype(int)\n",
    "print(PRI_jet_num_train)\n",
    "del_x_train = np.delete(x_train, COLUMN_TO_DROP, axis=1)\n",
    "print(del_x_train.shape)\n",
    "\n",
    "replaced_x_train = replace_undefined_with_mean(del_x_train, UNDEFINED_VALUE)\n",
    "\n",
    "norm_x_train, train_data_mean, train_data_std = mean_std_normalization(replaced_x_train)\n",
    "\n",
    "print(norm_x_train[0][0])\n",
    "print(norm_x_train.shape)"
   ]
  },
  {
   "cell_type": "markdown",
   "metadata": {},
   "source": [
    "# Do the same for the test data"
   ]
  },
  {
   "cell_type": "code",
   "execution_count": 4,
   "metadata": {},
   "outputs": [
    {
     "name": "stdout",
     "output_type": "stream",
     "text": [
      "[[0 1 0 ... 0 1 0]]\n",
      "(1, 568238)\n",
      "(568238, 29)\n",
      "-1.0911994002397385\n",
      "(568238, 29)\n"
     ]
    }
   ],
   "source": [
    "PRI_jet_num_test = np.array([x_test[:, COLUMN_TO_DROP]]).astype(int)\n",
    "print(PRI_jet_num_test)\n",
    "print(PRI_jet_num_test.shape)\n",
    "del_x_test = np.delete(x_test, COLUMN_TO_DROP, axis=1)\n",
    "print(del_x_test.shape)\n",
    "\n",
    "replaced_x_test = replace_undefined_with_mean(del_x_test, UNDEFINED_VALUE)\n",
    "\n",
    "norm_x_test, test_data_mean, test_data_std = mean_std_normalization(replaced_x_test, train_data_mean, train_data_std)\n",
    "print(norm_x_test[0][0])\n",
    "print(norm_x_test.shape)\n",
    "\n"
   ]
  },
  {
   "cell_type": "markdown",
   "metadata": {},
   "source": [
    "# Train model"
   ]
  },
  {
   "cell_type": "code",
   "execution_count": 34,
   "metadata": {
    "scrolled": false
   },
   "outputs": [
    {
     "name": "stdout",
     "output_type": "stream",
     "text": [
      "running with degree = 8\n",
      "running with degree = 9\n",
      "running with degree = 10\n",
      "running with degree = 11\n",
      "running with degree = 12\n",
      "running with degree = 13\n",
      "running with degree = 14\n"
     ]
    }
   ],
   "source": [
    "#hyperparameters\n",
    "init_w = np.ones(30)\n",
    "max_iters = 100\n",
    "lambda_list = np.logspace(-9,-1,10)\n",
    "degree_list = range(8,15)\n",
    "gamma_list = np.linspace(0.05,1)\n",
    "b_size = 1\n",
    "ratio = 0.8\n",
    "seed = 7\n",
    "\n",
    "#scoring placeholders\n",
    "best_lambda = np.zeros(4)\n",
    "best_degree = np.zeros(4,int)\n",
    "best_score = np.zeros(4)\n",
    "all_scores = np.zeros([len(lambda_list), len(degree_list)])\n",
    "\n",
    "#indexing variables\n",
    "d = 0\n",
    "g = 0\n",
    "\n",
    "#grid search loop\n",
    "for degree in degree_list:\n",
    "    print(\"running with degree = {}\".format(degree)) #progress visualization\n",
    "    for i in range(NUM_JETS):\n",
    "        #selecting current part of the dataset\n",
    "        curr_x = norm_x_train[PRI_jet_num_train[0,:]==i]\n",
    "        curr_y = y_train[PRI_jet_num_train[0,:]==i]\n",
    "        \n",
    "        #splitting training data into a training and validataion part\n",
    "        (t1_x, t1_y, t2_x, t2_y) = split_data(curr_x, curr_y, ratio, seed)\n",
    "        \n",
    "        px_t1 = build_poly(t1_x,degree)\n",
    "        px_t2 = build_poly(t2_x,degree)\n",
    "        g = 0\n",
    "        for lambda_ in lambda_list:\n",
    "\n",
    "            _, w1 = imp.ridge_regression(t1_y,px_t1, lambda_)\n",
    "            #_, w2 = imp.ridge_regression(t2_y,px_t2, lambda_)\n",
    "\n",
    "            #check how well the hyperparameters did\n",
    "            #y_validation_1 = predict_labels(w2, px_t1)\n",
    "            y_validation_2 = predict_labels(w1, px_t2)\n",
    "\n",
    "            score = (sum(y_validation_2 == t2_y)/len(t2_y) )#+ sum(y_validation_1 == t1_y)/len(t1_y))/2\n",
    "            \n",
    "            #save best parameters\n",
    "            if score > best_score[i]:\n",
    "                best_lambda[i] = lambda_\n",
    "                best_degree[i] = degree\n",
    "                best_score[i] = score\n",
    "                \n",
    "            #save all scores for plotting later\n",
    "            all_scores[g,d] = all_scores[g,d] + score*sum(PRI_jet_num_train[0,:]==i)/len(norm_x_train)\n",
    "            g = g+1\n",
    "    d = d+1"
   ]
  },
  {
   "cell_type": "markdown",
   "metadata": {},
   "source": [
    "# Test accuracy"
   ]
  },
  {
   "cell_type": "code",
   "execution_count": 31,
   "metadata": {},
   "outputs": [
    {
     "name": "stdout",
     "output_type": "stream",
     "text": [
      "0.8291199907661144\n"
     ]
    }
   ],
   "source": [
    "actual_score = 0\n",
    "for i in range(NUM_JETS):\n",
    "    actual_score = actual_score + best_score[i]*sum(PRI_jet_num_train[0,:]==i)/len(norm_x_train)\n",
    "\n",
    "print(actual_score)"
   ]
  },
  {
   "cell_type": "markdown",
   "metadata": {},
   "source": [
    "# Create submission"
   ]
  },
  {
   "cell_type": "code",
   "execution_count": 39,
   "metadata": {},
   "outputs": [
    {
     "name": "stdout",
     "output_type": "stream",
     "text": [
      "0.8283329573652154\n",
      "0.8274306338822468\n",
      "0.8111888111888111\n",
      "0.8296864425896684\n"
     ]
    }
   ],
   "source": [
    "some_degree = [11,12,14,12]\n",
    "for i in range(NUM_JETS):\n",
    "    '''\n",
    "    #selecting current part of the dataset based on PRI_jet_num\n",
    "    curr_x = norm_x_train[PRI_jet_num_train[0,:]==i]\n",
    "    curr_y = y_train[PRI_jet_num_train[0,:]==i]\n",
    "    \n",
    "    #generate weights from optimal hyperparameter values\n",
    "    px_tr = build_poly(curr_x, some_degree[i])\n",
    "    _, w = imp.ridge_regression(curr_y, px_tr, best_lambda[i])\n",
    "    \n",
    "    #generate output array\n",
    "    curr_x_test = norm_x_test[PRI_jet_num_test[0,:]==i]\n",
    "    px_test = build_poly(curr_x_test,some_degree[i])\n",
    "    y_test[PRI_jet_num_test[0,:]==i] = predict_labels(w, px_test)\n",
    "    '''\n",
    "    (tr_x, tr_y, te_x,te_y) = split_data(curr_x, curr_y, 0.8, 7)\n",
    "        \n",
    "    px_tr = build_poly(tr_x, best_degree[i])\n",
    "    px_te = build_poly(te_x, best_degree[i])\n",
    "    _, w = imp.ridge_regression(tr_y, px_tr, best_lambda[i])\n",
    "    \n",
    "    #curr_x_test = norm_x_test[PRI_jet_num_test[0,:]==i]\n",
    "    #px_test = build_poly(curr_x_test,best_degree[i])\n",
    "\n",
    "    #y_test[PRI_jet_num_test[0,:]==i] = predict_labels(w, px_test)\n",
    "    y_validation = predict_labels(w, px_te)\n",
    "    score = sum(y_validation == te_y)/len(te_y)\n",
    "    print(score)\n"
   ]
  },
  {
   "cell_type": "code",
   "execution_count": 26,
   "metadata": {},
   "outputs": [],
   "source": [
    "create_csv_submission(ids_test, y_test, \"y_pred.csv\")"
   ]
  },
  {
   "cell_type": "markdown",
   "metadata": {},
   "source": [
    "# Visualize data"
   ]
  },
  {
   "cell_type": "code",
   "execution_count": 38,
   "metadata": {},
   "outputs": [
    {
     "data": {
      "image/png": "[encoded data removed]",
      "text/plain": [
       "<Figure size 432x288 with 2 Axes>"
      ]
     },
     "metadata": {},
     "output_type": "display_data"
    }
   ],
   "source": [
    "heatmap_fig = sns.heatmap(all_scores[:,:], xticklabels=degree_list, yticklabels=lambda_list[:])\n",
    "heatmap_fig.get_figure().savefig('ridge_regression.png', bbox_inches='tight')\n"
   ]
  },
  {
   "cell_type": "code",
   "execution_count": 36,
   "metadata": {},
   "outputs": [
    {
     "name": "stdout",
     "output_type": "stream",
     "text": [
      "[3.59381366e-06 2.78255940e-05 5.99484250e-08 7.74263683e-09]\n",
      "[12 12 13 12]\n",
      "[0.84752039 0.80714424 0.83872568 0.82968644]\n"
     ]
    }
   ],
   "source": [
    "print(best_lambda)\n",
    "print(best_degree)\n",
    "print(best_score)"
   ]
  },
  {
   "cell_type": "code",
   "execution_count": null,
   "metadata": {},
   "outputs": [],
   "source": []
  }
 ],
 "metadata": {
  "kernelspec": {
   "display_name": "Python 3",
   "language": "python",
   "name": "python3"
  },
  "language_info": {
   "codemirror_mode": {
    "name": "ipython",
    "version": 3
   },
   "file_extension": ".py",
   "mimetype": "text/x-python",
   "name": "python",
   "nbconvert_exporter": "python",
   "pygments_lexer": "ipython3",
   "version": "3.6.5"
  }
 },
 "nbformat": 4,
 "nbformat_minor": 2
}
