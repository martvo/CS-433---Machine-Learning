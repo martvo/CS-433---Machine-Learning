{
 "cells": [
  {
   "cell_type": "code",
   "execution_count": 2,
   "metadata": {},
   "outputs": [],
   "source": [
    "# Useful starting lines\n",
    "%matplotlib inline\n",
    "import numpy as np\n",
    "import matplotlib.pyplot as plt\n",
    "from proj1_helpers import *\n",
    "import implementations as imp\n",
    "import matplotlib.pyplot as plt\n",
    "%load_ext autoreload\n",
    "%autoreload 2\n"
   ]
  },
  {
   "cell_type": "markdown",
   "metadata": {},
   "source": [
    "# Import data"
   ]
  },
  {
   "cell_type": "code",
   "execution_count": 3,
   "metadata": {},
   "outputs": [],
   "source": [
    "y_train, x_train, ids_train = load_csv_data(\"../data/train.csv\")\n",
    "y_test, x_test, ids_test = load_csv_data(\"../data/test.csv\")\n"
   ]
  },
  {
   "cell_type": "code",
   "execution_count": 4,
   "metadata": {},
   "outputs": [
    {
     "data": {
      "text/plain": [
       "(250000, 30)"
      ]
     },
     "execution_count": 4,
     "metadata": {},
     "output_type": "execute_result"
    }
   ],
   "source": [
    "x_train.shape"
   ]
  },
  {
   "cell_type": "code",
   "execution_count": 26,
   "metadata": {},
   "outputs": [
    {
     "name": "stdout",
     "output_type": "stream",
     "text": [
      "shape of px_tr (125000, 181)\n",
      "shape of tr_x (125000, 30)\n",
      "shape of w (181,)\n",
      "shape of init_w (30,)\n",
      "shape of te_x (125000, 30)\n",
      "shape of px_te (125000, 181)\n",
      "(181,)\n",
      "0 0.8002\n",
      "1 0.800184\n",
      "2 0.800176\n",
      "3 0.800168\n",
      "4 0.800136\n",
      "5 0.800136\n",
      "6 0.800088\n",
      "7 0.800064\n",
      "8 0.800032\n",
      "9 0.800016\n",
      "10 0.800008\n",
      "11 0.800056\n",
      "12 0.800048\n",
      "13 0.800048\n",
      "14 0.800056\n",
      "15 0.800048\n",
      "16 0.80004\n",
      "17 0.800032\n",
      "18 0.800048\n",
      "19 0.800056\n",
      "20 0.800072\n",
      "21 0.800072\n",
      "22 0.800056\n",
      "23 0.80008\n",
      "24 0.800088\n",
      "25 0.800088\n",
      "26 0.800096\n",
      "27 0.800096\n",
      "28 0.800096\n",
      "29 0.800096\n",
      "30 0.800088\n",
      "31 0.80008\n",
      "32 0.800072\n",
      "33 0.800064\n",
      "34 0.800056\n",
      "35 0.800032\n",
      "36 0.799992\n",
      "37 0.799992\n",
      "38 0.799992\n",
      "39 0.799984\n",
      "40 0.799984\n",
      "41 0.799992\n",
      "42 0.8\n",
      "43 0.800008\n",
      "44 0.800016\n",
      "45 0.800024\n",
      "46 0.800008\n",
      "47 0.799992\n",
      "48 0.8\n",
      "49 0.800016\n"
     ]
    }
   ],
   "source": [
    "init_w = np.ones(30)\n",
    "max_iters = 100\n",
    "gamma = 0.000001\n",
    "b_size = 1\n",
    "degree = 6\n",
    "ratio = 0.5\n",
    "seed = 1\n",
    "\n",
    "(tr_x, tr_y, te_x,te_y) = split_data(x_train,y_train,ratio, seed)\n",
    "\n",
    "px_tr = build_poly(tr_x,degree)\n",
    "px_te = build_poly(te_x,degree)\n",
    "np.shape(px_tr)\n",
    "w_list = []\n",
    "for i in range(50):\n",
    "    _, w = imp.ridge_regression(tr_y,px_tr, gamma)\n",
    "    w_list.append(w)\n",
    "    gamma = gamma + 0.000002\n",
    "\n",
    "print(\"shape of px_tr {}\".format(px_tr.shape))\n",
    "print(\"shape of tr_x {}\".format(tr_x.shape))\n",
    "print(\"shape of w {}\".format(w.shape))\n",
    "print(\"shape of init_w {}\".format(init_w.shape))\n",
    "print(\"shape of te_x {}\".format(te_x.shape))\n",
    "print(\"shape of px_te {}\".format(px_te.shape))\n",
    "\n",
    "\n",
    "y_pred = predict_labels(w, px_te)\n",
    "print(w_list[0].shape)\n",
    "n = len(y_pred)\n",
    "correct = 0\n",
    "for j in range(len(w_list)):\n",
    "    correct = 0\n",
    "    y_pred = predict_labels(w_list[j], px_te)\n",
    "    for i in range(n):\n",
    "        if y_pred[i] == te_y[i]:\n",
    "            correct = correct + 1\n",
    "        ratio = correct/n\n",
    "    print(j, ratio)"
   ]
  },
  {
   "cell_type": "markdown",
   "metadata": {},
   "source": [
    "# test accuracy"
   ]
  },
  {
   "cell_type": "code",
   "execution_count": 13,
   "metadata": {},
   "outputs": [
    {
     "name": "stdout",
     "output_type": "stream",
     "text": [
      "(211,)\n",
      "0.763416\n"
     ]
    }
   ],
   "source": [
    "y_pred = predict_labels(w, px_te)\n",
    "print(w_list[0].shape)\n",
    "n = len(y_pred)\n",
    "correct = 0\n",
    "ratio = []\n",
    "for j in range(len(w_list)):\n",
    "    correct = 0\n",
    "    y_pred = predict_labels(w_list[j], px_te)\n",
    "    for i in range(n):\n",
    "        if y_pred[i] == te_y[i]:\n",
    "            correct = correct + 1\n",
    "        ratio.append(correct/n)\n",
    "    #print(j, ratio)\n",
    "print(max(ratio))"
   ]
  },
  {
   "cell_type": "code",
   "execution_count": 27,
   "metadata": {},
   "outputs": [],
   "source": [
    "\n",
    "test_poly = build_poly(x_test,degree)\n",
    "\n",
    "y_pred_test = predict_labels(w_list[0],test_poly)\n",
    "\n",
    "create_csv_submission(ids_test, y_pred_test, \"y_pred.csv\")"
   ]
  },
  {
   "cell_type": "code",
   "execution_count": null,
   "metadata": {},
   "outputs": [],
   "source": []
  }
 ],
 "metadata": {
  "kernelspec": {
   "display_name": "Python 3",
   "language": "python",
   "name": "python3"
  },
  "language_info": {
   "codemirror_mode": {
    "name": "ipython",
    "version": 3
   },
   "file_extension": ".py",
   "mimetype": "text/x-python",
   "name": "python",
   "nbconvert_exporter": "python",
   "pygments_lexer": "ipython3",
   "version": "3.6.5"
  }
 },
 "nbformat": 4,
 "nbformat_minor": 2
}
