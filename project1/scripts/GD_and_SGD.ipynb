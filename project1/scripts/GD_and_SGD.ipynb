{
 "cells": [
  {
   "cell_type": "code",
   "execution_count": 1,
   "metadata": {},
   "outputs": [],
   "source": [
    "# Useful starting lines\n",
    "%matplotlib inline\n",
    "import numpy as np\n",
    "import matplotlib.pyplot as plt\n",
    "from proj1_helpers import *\n",
    "from data_cleaning import *\n",
    "import implementations as imp\n",
    "import plots\n",
    "import matplotlib.pyplot as plt\n",
    "%load_ext autoreload\n",
    "%autoreload 2\n",
    "\n",
    "COLUMN_TO_DROP = 22"
   ]
  },
  {
   "cell_type": "markdown",
   "metadata": {},
   "source": [
    "# Import data"
   ]
  },
  {
   "cell_type": "code",
   "execution_count": 2,
   "metadata": {},
   "outputs": [],
   "source": [
    "y_train, x_train, ids_train = load_csv_data(\"../data/train.csv\")\n",
    "y_test, x_test, ids_test = load_csv_data(\"../data/test.csv\")"
   ]
  },
  {
   "cell_type": "code",
   "execution_count": 3,
   "metadata": {},
   "outputs": [
    {
     "data": {
      "text/plain": [
       "(250000, 30)"
      ]
     },
     "execution_count": 3,
     "metadata": {},
     "output_type": "execute_result"
    }
   ],
   "source": [
    "x_train.shape"
   ]
  },
  {
   "cell_type": "markdown",
   "metadata": {},
   "source": [
    "# Clean data and add features"
   ]
  },
  {
   "cell_type": "code",
   "execution_count": 4,
   "metadata": {},
   "outputs": [
    {
     "name": "stdout",
     "output_type": "stream",
     "text": [
      "(1, 250000)\n",
      "(250000, 29)\n",
      "\n",
      "138.47\n",
      "(250000, 87)\n",
      "\n",
      "0.4986371179215161\n",
      "(250000, 87)\n",
      "\n",
      "(250000, 88)\n"
     ]
    }
   ],
   "source": [
    "PRI_jet_num = np.array([x_train[:, COLUMN_TO_DROP]])\n",
    "print(PRI_jet_num.shape)\n",
    "del_x_train = np.delete(x_train, COLUMN_TO_DROP, axis=1)\n",
    "print(del_x_train.shape)\n",
    "\n",
    "print()\n",
    "\n",
    "replaced_x_train = replace_undefined(del_x_train, UNDEFINED_VALUE, 0.0)\n",
    "poly_x_train = create_poly_features(replaced_x_train, 3)\n",
    "print(poly_x_train[0][0])\n",
    "print(poly_x_train.shape)\n",
    "\n",
    "print()\n",
    "\n",
    "norm_x_train, train_data_mean, train_data_std = mean_std_normalization(poly_x_train)\n",
    "print(norm_x_train[0][0])\n",
    "print(norm_x_train.shape)\n",
    "\n",
    "print()\n",
    "\n",
    "new_x_train = np.concatenate((norm_x_train, PRI_jet_num.T), axis=1)\n",
    "print(new_x_train.shape)"
   ]
  },
  {
   "cell_type": "markdown",
   "metadata": {},
   "source": [
    "# Do the same for the test data"
   ]
  },
  {
   "cell_type": "code",
   "execution_count": 5,
   "metadata": {},
   "outputs": [
    {
     "name": "stdout",
     "output_type": "stream",
     "text": [
      "[[0. 1. 0. ... 0. 1. 0.]]\n",
      "(1, 568238)\n",
      "(250000, 29)\n",
      "0.0\n",
      "(568238, 87)\n",
      "-1.0096823731792868\n",
      "(568238, 87)\n",
      "(568238, 88)\n"
     ]
    }
   ],
   "source": [
    "PRI_jet_num = np.array([x_test[:, COLUMN_TO_DROP]])\n",
    "print(PRI_jet_num[0:5])\n",
    "print(PRI_jet_num.shape)\n",
    "del_x_test = np.delete(x_test, COLUMN_TO_DROP, axis=1)\n",
    "print(del_x_train.shape)\n",
    "\n",
    "replaced_x_test = replace_undefined(del_x_test, UNDEFINED_VALUE, 0.0)\n",
    "poly_x_test = create_poly_features(replaced_x_test, 3)\n",
    "print(poly_x_test[0][0])\n",
    "print(poly_x_test.shape)\n",
    "\n",
    "norm_x_test, test_data_mean, test_data_std = mean_std_normalization(poly_x_test, train_data_mean, train_data_mean)\n",
    "print(norm_x_test[0][0])\n",
    "print(norm_x_test.shape)\n",
    "\n",
    "new_x_test = np.concatenate((norm_x_test, PRI_jet_num.T), axis=1)\n",
    "print(new_x_test.shape)"
   ]
  },
  {
   "cell_type": "markdown",
   "metadata": {},
   "source": [
    "# Make and train model\n",
    "### GD"
   ]
  },
  {
   "cell_type": "code",
   "execution_count": 6,
   "metadata": {
    "scrolled": false
   },
   "outputs": [],
   "source": [
    "gamma = 0.1\n",
    "max_iters = 100\n",
    "seed = 1\n",
    "ratio = 0.8\n",
    "initial_w = np.zeros(new_x_train.shape[1], dtype=np.float64)\n",
    "\n",
    "# Traning and validation set\n",
    "# If we want to use this we need to change the gradient implementation....\n",
    "# It needs to test the model in each iteration and return the % of correct prediction for each iteration\n",
    "# The same goes for SGD\n",
    "(tr_x, tr_y, val_x, val_y) = split_data(new_x_train, y_train, ratio, seed)\n",
    "\n",
    "# Training\n",
    "gd_loss, gd_weights = imp.least_squares_GD(tr_y, tr_x, initial_w, max_iters, gamma)"
   ]
  },
  {
   "cell_type": "code",
   "execution_count": 7,
   "metadata": {
    "scrolled": false
   },
   "outputs": [
    {
     "name": "stdout",
     "output_type": "stream",
     "text": [
      "8.242136460464226e+135\n"
     ]
    }
   ],
   "source": [
    "print(gd_loss)"
   ]
  },
  {
   "cell_type": "markdown",
   "metadata": {},
   "source": [
    "### Testing"
   ]
  },
  {
   "cell_type": "code",
   "execution_count": 73,
   "metadata": {},
   "outputs": [
    {
     "name": "stdout",
     "output_type": "stream",
     "text": [
      "284565 of 568238 correct, precentage: 0.5007848823908292\n"
     ]
    }
   ],
   "source": [
    "y_pred = predict_labels(gd_weights[-1], new_x_test)\n",
    "n = len(y_pred)\n",
    "correct = 0\n",
    "for i in range(n):\n",
    "    if (y_pred[i] == y_test[i]):\n",
    "        correct += 1\n",
    "print(str(correct) + \" of \" + str(n) + \" correct, precentage: \" + str(correct/n)) "
   ]
  },
  {
   "cell_type": "markdown",
   "metadata": {},
   "source": [
    "### SGD"
   ]
  },
  {
   "cell_type": "code",
   "execution_count": 86,
   "metadata": {},
   "outputs": [],
   "source": [
    "gamma = 0.1\n",
    "max_iters = 50\n",
    "initial_w = np.zeros(new_x_train.shape[1], dtype=np.float64)\n",
    "batch_size = int(np.floor(new_x_train.shape[0] / 100))\n",
    "\n",
    "# Training\n",
    "sgd_loss, sgd_weights = imp.least_squares_SGD(y_train, new_x_train, initial_w, max_iters, gamma, batch_size)"
   ]
  },
  {
   "cell_type": "code",
   "execution_count": 88,
   "metadata": {
    "scrolled": false
   },
   "outputs": [
    {
     "data": {
      "image/png": "[encoded data removed]",
      "text/plain": [
       "<Figure size 1440x720 with 1 Axes>"
      ]
     },
     "metadata": {
      "needs_background": "light"
     },
     "output_type": "display_data"
    }
   ],
   "source": [
    "# Plot\n",
    "plt.subplots(figsize=(20,10))\n",
    "plt.plot(sgd_loss)\n",
    "plt.legend([\"Training loss\"])\n",
    "plt.grid()\n",
    "plt.title(\"Loss for Stochastic Gradient Decent\")\n",
    "plt.xlabel(\"Iteration number\")\n",
    "plt.ylabel(\"MSE\")\n",
    "plt.show()"
   ]
  },
  {
   "cell_type": "markdown",
   "metadata": {},
   "source": [
    "### Testing"
   ]
  },
  {
   "cell_type": "code",
   "execution_count": 89,
   "metadata": {},
   "outputs": [
    {
     "name": "stdout",
     "output_type": "stream",
     "text": [
      "280737 of 568238 correct, precentage: 0.49404826850721\n"
     ]
    }
   ],
   "source": [
    "y_pred = predict_labels(sgd_weights[-1], new_x_test)\n",
    "n = len(y_pred)\n",
    "correct = 0\n",
    "for i in range(n):\n",
    "    if (y_pred[i] == y_test[i]):\n",
    "        correct += 1\n",
    "print(str(correct) + \" of \" + str(n) + \" correct, precentage: \" + str(correct/n)) "
   ]
  },
  {
   "cell_type": "code",
   "execution_count": null,
   "metadata": {},
   "outputs": [],
   "source": []
  }
 ],
 "metadata": {
  "kernelspec": {
   "display_name": "Python [default]",
   "language": "python",
   "name": "python3"
  },
  "language_info": {
   "codemirror_mode": {
    "name": "ipython",
    "version": 3
   },
   "file_extension": ".py",
   "mimetype": "text/x-python",
   "name": "python",
   "nbconvert_exporter": "python",
   "pygments_lexer": "ipython3",
   "version": "3.7.0"
  }
 },
 "nbformat": 4,
 "nbformat_minor": 2
}
