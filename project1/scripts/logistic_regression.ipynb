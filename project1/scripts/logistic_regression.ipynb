{
 "cells": [
  {
   "cell_type": "code",
   "execution_count": 11,
   "metadata": {},
   "outputs": [
    {
     "name": "stdout",
     "output_type": "stream",
     "text": [
      "The autoreload extension is already loaded. To reload it, use:\n",
      "  %reload_ext autoreload\n"
     ]
    }
   ],
   "source": [
    "# Useful starting lines\n",
    "%matplotlib inline\n",
    "import numpy as np\n",
    "import matplotlib.pyplot as plt\n",
    "from proj1_helpers import *\n",
    "from data_cleaning import *\n",
    "import implementations as imp\n",
    "import plots\n",
    "import matplotlib.pyplot as plt\n",
    "%load_ext autoreload\n",
    "%autoreload 2\n",
    "\n",
    "COLUMN_TO_DROP = 22"
   ]
  },
  {
   "cell_type": "markdown",
   "metadata": {},
   "source": [
    "# Import data"
   ]
  },
  {
   "cell_type": "code",
   "execution_count": 12,
   "metadata": {},
   "outputs": [],
   "source": [
    "y_train, x_train, ids_train = load_csv_data(\"../data/train.csv\")\n",
    "y_test, x_test, ids_test = load_csv_data(\"../data/test.csv\")"
   ]
  },
  {
   "cell_type": "markdown",
   "metadata": {},
   "source": [
    "# Clean and add features"
   ]
  },
  {
   "cell_type": "code",
   "execution_count": 13,
   "metadata": {},
   "outputs": [
    {
     "name": "stdout",
     "output_type": "stream",
     "text": [
      "(1, 250000)\n",
      "(250000, 29)\n",
      "\n",
      "138.47\n",
      "(250000, 29)\n",
      "\n",
      "0.4736512480675119\n",
      "(250000, 29)\n"
     ]
    }
   ],
   "source": [
    "NUM_JETS = 4\n",
    "\n",
    "PRI_jet_num_train = np.array([x_train[:, COLUMN_TO_DROP]]).astype(int)\n",
    "print(PRI_jet_num_train.shape)\n",
    "del_x_train = np.delete(x_train, COLUMN_TO_DROP, axis=1)\n",
    "print(del_x_train.shape)\n",
    "\n",
    "print()\n",
    "\n",
    "replaced_x_train = replace_undefined_with_mean(del_x_train, UNDEFINED_VALUE)\n",
    "print(replaced_x_train[0][0])\n",
    "print(replaced_x_train.shape)\n",
    "\n",
    "print()\n",
    "\n",
    "norm_x_train, train_data_mean, train_data_std = mean_std_normalization(replaced_x_train)\n",
    "print(norm_x_train[0][0])\n",
    "print(norm_x_train.shape)"
   ]
  },
  {
   "cell_type": "code",
   "execution_count": 14,
   "metadata": {
    "scrolled": true
   },
   "outputs": [
    {
     "name": "stdout",
     "output_type": "stream",
     "text": [
      "[[0 1 0 ... 0 1 0]]\n",
      "(1, 568238)\n",
      "(250000, 29)\n",
      "46.72265694612496\n",
      "(568238, 29)\n",
      "46.72265694612496\n",
      "(568238, 29)\n"
     ]
    }
   ],
   "source": [
    "PRI_jet_num_test = np.array([x_test[:, COLUMN_TO_DROP]]).astype(int)\n",
    "print(PRI_jet_num_test[0:5])\n",
    "print(PRI_jet_num_test.shape)\n",
    "del_x_test = np.delete(x_test, COLUMN_TO_DROP, axis=1)\n",
    "print(del_x_train.shape)\n",
    "\n",
    "replaced_x_test = replace_undefined_with_mean(del_x_test, UNDEFINED_VALUE)\n",
    "print(replaced_x_test[0][0])\n",
    "print(replaced_x_test.shape)\n",
    "\n",
    "norm_x_test, test_data_mean, test_data_std = mean_std_normalization(replaced_x_test, train_data_mean, train_data_std)\n",
    "print(norm_x_test[0][0])\n",
    "print(norm_x_test.shape)"
   ]
  },
  {
   "cell_type": "markdown",
   "metadata": {},
   "source": [
    "# The model"
   ]
  },
  {
   "cell_type": "code",
   "execution_count": 28,
   "metadata": {},
   "outputs": [
    {
     "data": {
      "text/plain": [
       "-89706859.29232088"
      ]
     },
     "execution_count": 28,
     "metadata": {},
     "output_type": "execute_result"
    }
   ],
   "source": [
    "initial_w = np.zeros(norm_x_train.shape[1], dtype=np.float64)\n",
    "max_iters = 100\n",
    "gamma = 0.01\n",
    "seed = 1\n",
    "ratio = 0.5\n",
    "(tr_x, tr_y, te_x,te_y) = split_data(norm_x_train, y_train, ratio, seed)\n",
    "lr_loss, lr_weights = imp.reg_logistic_regression(tr_y, tr_x, 0.1, initial_w, max_iters, gamma)\n",
    "lr_loss"
   ]
  },
  {
   "cell_type": "code",
   "execution_count": 29,
   "metadata": {},
   "outputs": [
    {
     "data": {
      "text/plain": [
       "0.73224"
      ]
     },
     "execution_count": 29,
     "metadata": {},
     "output_type": "execute_result"
    }
   ],
   "source": [
    "y_validation = predict_labels(lr_weights, te_x)\n",
    "score = sum(y_validation == te_y)/len(te_y)\n",
    "score"
   ]
  },
  {
   "cell_type": "code",
   "execution_count": null,
   "metadata": {
    "scrolled": false
   },
   "outputs": [
    {
     "name": "stdout",
     "output_type": "stream",
     "text": [
      "10\n"
     ]
    }
   ],
   "source": [
    "gamma_list = [0.001,0.01,0.1] #np.logspace(-7, -1, 10)\n",
    "degree_list = [10, 12] #range(7, 15)\n",
    "max_iters = 100\n",
    "ratio = 0.5\n",
    "seed = 1\n",
    "b_size = 1\n",
    "\n",
    "best_gamma = np.zeros(4)\n",
    "best_degree = np.zeros(4, int)\n",
    "best_score = np.zeros(4)\n",
    "\n",
    "for degree in degree_list:\n",
    "    for i in range(NUM_JETS):\n",
    "        curr_x = norm_x_train[PRI_jet_num_train[0,:]==i]\n",
    "        curr_y = y_train[PRI_jet_num_train[0,:]==i]\n",
    "        \n",
    "        (tr_x, tr_y, te_x,te_y) = split_data(curr_x, curr_y, ratio, seed)\n",
    "        \n",
    "        px_tr = build_poly(tr_x, degree)\n",
    "        px_te = build_poly(te_x, degree)\n",
    "        \n",
    "        for gamma in gamma_list:\n",
    "            initial_w = np.zeros(px_tr.shape[1], dtype=np.float64)\n",
    "            _, w = imp.logistic_regression(tr_y, px_tr, initial_w, max_iters, gamma)\n",
    "            y_validation = predict_labels(w, px_te)\n",
    "            score = sum(y_validation == te_y)\n",
    "            \n",
    "            if score > best_score[i]:\n",
    "                best_gamma[i] = gamma\n",
    "                best_score[i] = score\n",
    "                best_degree[i] = degree\n",
    "    print(degree)"
   ]
  },
  {
   "cell_type": "markdown",
   "metadata": {},
   "source": [
    "## Hva kan vi cross validate?\n",
    "- Degrees, hvor mange degrees ska vi legge til i den polynomiske utvidelsen av dataen vår?\n",
    "- Lambda, for ridge regression og og den andre logistic regressionene\n",
    "- Gamma, learning rate"
   ]
  },
  {
   "cell_type": "code",
   "execution_count": null,
   "metadata": {},
   "outputs": [],
   "source": [
    "for i in range(NUM_JETS):\n",
    "    curr_x = norm_x_train[PRI_jet_num_train[0,:]==i]\n",
    "    curr_y = y_train[PRI_jet_num_train[0,:]==i]\n",
    "    \n",
    "    px_tr = build_poly(curr_x,best_degree[i])\n",
    "    _, w = imp.ridge_regression(curr_y,px_tr, best_gamma[i])\n",
    "    \n",
    "    curr_x_test = norm_x_test[PRI_jet_num_test[0,:]==i]\n",
    "    px_test = build_poly(curr_x_test,best_degree[i])\n",
    "\n",
    "    y_test[PRI_jet_num_test[0,:]==i] = predict_labels(w, px_test)"
   ]
  },
  {
   "cell_type": "code",
   "execution_count": null,
   "metadata": {},
   "outputs": [],
   "source": [
    "sum(best_score)/len(y_train)"
   ]
  },
  {
   "cell_type": "code",
   "execution_count": 27,
   "metadata": {},
   "outputs": [
    {
     "data": {
      "text/plain": [
       "array([14439.,  9979.,  6079.,  2994.])"
      ]
     },
     "execution_count": 27,
     "metadata": {},
     "output_type": "execute_result"
    }
   ],
   "source": [
    "best_score"
   ]
  },
  {
   "cell_type": "code",
   "execution_count": null,
   "metadata": {},
   "outputs": [],
   "source": []
  }
 ],
 "metadata": {
  "kernelspec": {
   "display_name": "Python [default]",
   "language": "python",
   "name": "python3"
  },
  "language_info": {
   "codemirror_mode": {
    "name": "ipython",
    "version": 3
   },
   "file_extension": ".py",
   "mimetype": "text/x-python",
   "name": "python",
   "nbconvert_exporter": "python",
   "pygments_lexer": "ipython3",
   "version": "3.7.0"
  }
 },
 "nbformat": 4,
 "nbformat_minor": 2
}
