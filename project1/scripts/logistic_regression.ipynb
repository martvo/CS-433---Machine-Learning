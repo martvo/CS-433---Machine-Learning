{
 "cells": [
  {
   "cell_type": "code",
   "execution_count": 1,
   "metadata": {},
   "outputs": [],
   "source": [
    "# Useful starting lines\n",
    "%matplotlib inline\n",
    "import numpy as np\n",
    "import matplotlib.pyplot as plt\n",
    "from proj1_helpers import *\n",
    "from data_cleaning import *\n",
    "import implementations as imp\n",
    "import plots\n",
    "import matplotlib.pyplot as plt\n",
    "%load_ext autoreload\n",
    "%autoreload 2\n",
    "\n",
    "COLUMN_TO_DROP = 22"
   ]
  },
  {
   "cell_type": "markdown",
   "metadata": {},
   "source": [
    "# Import data"
   ]
  },
  {
   "cell_type": "code",
   "execution_count": 2,
   "metadata": {},
   "outputs": [],
   "source": [
    "y_train, x_train, ids_train = load_csv_data(\"../data/train.csv\")\n",
    "y_test, x_test, ids_test = load_csv_data(\"../data/test.csv\")"
   ]
  },
  {
   "cell_type": "markdown",
   "metadata": {},
   "source": [
    "# Clean and add features"
   ]
  },
  {
   "cell_type": "code",
   "execution_count": 3,
   "metadata": {},
   "outputs": [
    {
     "name": "stdout",
     "output_type": "stream",
     "text": [
      "(1, 250000)\n",
      "(250000, 29)\n",
      "\n",
      "138.47\n",
      "(250000, 87)\n",
      "\n",
      "0.5132216131919056\n",
      "(250000, 87)\n",
      "\n",
      "(250000, 88)\n"
     ]
    }
   ],
   "source": [
    "PRI_jet_num = np.array([x_train[:, COLUMN_TO_DROP]])\n",
    "print(PRI_jet_num.shape)\n",
    "del_x_train = np.delete(x_train, COLUMN_TO_DROP, axis=1)\n",
    "print(del_x_train.shape)\n",
    "\n",
    "print()\n",
    "\n",
    "replaced_x_train = replace_undefined(del_x_train, UNDEFINED_VALUE, 0.0)\n",
    "poly_x_train = create_poly_features(replaced_x_train, 3)\n",
    "print(poly_x_train[0][0])\n",
    "print(poly_x_train.shape)\n",
    "\n",
    "print()\n",
    "\n",
    "norm_x_train, train_data_mean, train_data_std = mean_std_normalization(poly_x_train)\n",
    "print(norm_x_train[0][0])\n",
    "print(norm_x_train.shape)\n",
    "\n",
    "print()\n",
    "\n",
    "new_x_train = np.concatenate((norm_x_train, PRI_jet_num.T), axis=1)\n",
    "print(new_x_train.shape)"
   ]
  },
  {
   "cell_type": "code",
   "execution_count": 4,
   "metadata": {
    "scrolled": true
   },
   "outputs": [
    {
     "name": "stdout",
     "output_type": "stream",
     "text": [
      "[[0. 1. 0. ... 0. 1. 0.]]\n",
      "(1, 568238)\n",
      "(250000, 29)\n",
      "0.0\n",
      "(568238, 87)\n",
      "-1.0\n",
      "(568238, 87)\n",
      "(568238, 88)\n"
     ]
    }
   ],
   "source": [
    "PRI_jet_num = np.array([x_test[:, COLUMN_TO_DROP]])\n",
    "print(PRI_jet_num[0:5])\n",
    "print(PRI_jet_num.shape)\n",
    "del_x_test = np.delete(x_test, COLUMN_TO_DROP, axis=1)\n",
    "print(del_x_train.shape)\n",
    "\n",
    "replaced_x_test = replace_undefined(del_x_test, UNDEFINED_VALUE, 0.0)\n",
    "poly_x_test = create_poly_features(replaced_x_test, 3)\n",
    "print(poly_x_test[0][0])\n",
    "print(poly_x_test.shape)\n",
    "\n",
    "norm_x_test, test_data_mean, test_data_std = mean_std_normalization(poly_x_test, train_data_mean, train_data_mean)\n",
    "print(norm_x_test[0][0])\n",
    "print(norm_x_test.shape)\n",
    "\n",
    "new_x_test = np.concatenate((norm_x_test, PRI_jet_num.T), axis=1)\n",
    "print(new_x_test.shape)"
   ]
  },
  {
   "cell_type": "markdown",
   "metadata": {},
   "source": [
    "# The model"
   ]
  },
  {
   "cell_type": "code",
   "execution_count": null,
   "metadata": {},
   "outputs": [
    {
     "name": "stdout",
     "output_type": "stream",
     "text": [
      "Loss in iteration 0: 1529113.584715708\n",
      "Loss in iteration 1: 1516696794.1490726\n",
      "Loss in iteration 2: -4689984083.985154\n",
      "Loss in iteration 3: -9480558379.686684\n",
      "Loss in iteration 4: -11743310644.382421\n",
      "Loss in iteration 5: -13873699736.308298\n",
      "Loss in iteration 6: -15984585251.409456\n",
      "Loss in iteration 7: -18085845591.85376\n",
      "Loss in iteration 8: -20182108324.636673\n",
      "Loss in iteration 9: -22275704285.078957\n",
      "Loss in iteration 10: -24367899747.224854\n",
      "Loss in iteration 11: -26459055857.064762\n",
      "Loss in iteration 12: -28549491527.841103\n",
      "Loss in iteration 13: -30639440843.591393\n",
      "Loss in iteration 14: -32729010307.34956\n",
      "Loss in iteration 15: -34818313557.32939\n",
      "Loss in iteration 16: -36907394512.21491\n",
      "Loss in iteration 17: -38996306767.1004\n",
      "Loss in iteration 18: -41085110094.8328\n",
      "Loss in iteration 19: -43173784796.511505\n",
      "Loss in iteration 20: -45262364789.53327\n",
      "Loss in iteration 21: -47350870151.06121\n",
      "Loss in iteration 22: -49439296135.25639\n",
      "Loss in iteration 23: -51527670250.5036\n",
      "Loss in iteration 24: -53616009755.778786\n",
      "Loss in iteration 25: -55704320312.76138\n",
      "Loss in iteration 26: -57792593764.46068\n",
      "Loss in iteration 27: -59880844219.46844\n",
      "Loss in iteration 28: -61969063963.583954\n",
      "Loss in iteration 29: -64057264110.81353\n",
      "Loss in iteration 30: -66145446557.49695\n"
     ]
    }
   ],
   "source": [
    "gamma = 0.1\n",
    "max_iters = 100\n",
    "initial_w = np.ones(new_x_train.shape[1], dtype=np.float64)\n",
    "\n",
    "rg_loss, best_rg_weight = imp.logistic_regression(y_train, new_x_train, initial_w, max_iters, gamma)\n",
    "print(len(rg_loss))"
   ]
  },
  {
   "cell_type": "code",
   "execution_count": null,
   "metadata": {},
   "outputs": [],
   "source": [
    "# Plot\n",
    "plt.subplots(figsize=(20,10))\n",
    "plt.plot(rg_loss)\n",
    "plt.legend([\"Training loss\"])\n",
    "plt.grid()\n",
    "plt.title(\"Loss for Logistic Regression\")\n",
    "plt.xlabel(\"Iteration number\")\n",
    "plt.ylabel(\"MSE\")\n",
    "plt.show()"
   ]
  },
  {
   "cell_type": "markdown",
   "metadata": {},
   "source": [
    "# Testing"
   ]
  },
  {
   "cell_type": "code",
   "execution_count": null,
   "metadata": {},
   "outputs": [],
   "source": [
    "y_pred = predict_labels(best_rg_weight[-1], new_x_test)\n",
    "n = len(y_pred)\n",
    "correct = 0\n",
    "for i in range(n):\n",
    "    if (y_pred[i] == y_test[i]):\n",
    "        correct += 1\n",
    "print(str(correct) + \" of \" + str(n) + \" correct, precentage: \" + str(correct/n)) "
   ]
  },
  {
   "cell_type": "code",
   "execution_count": null,
   "metadata": {},
   "outputs": [],
   "source": []
  }
 ],
 "metadata": {
  "kernelspec": {
   "display_name": "Python [default]",
   "language": "python",
   "name": "python3"
  },
  "language_info": {
   "codemirror_mode": {
    "name": "ipython",
    "version": 3
   },
   "file_extension": ".py",
   "mimetype": "text/x-python",
   "name": "python",
   "nbconvert_exporter": "python",
   "pygments_lexer": "ipython3",
   "version": "3.7.0"
  }
 },
 "nbformat": 4,
 "nbformat_minor": 2
}
