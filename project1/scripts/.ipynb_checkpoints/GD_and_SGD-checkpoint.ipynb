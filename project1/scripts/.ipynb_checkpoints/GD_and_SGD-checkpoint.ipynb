{
 "cells": [
  {
   "cell_type": "code",
   "execution_count": 1,
   "metadata": {},
   "outputs": [],
   "source": [
    "# Useful starting lines\n",
    "%matplotlib inline\n",
    "import numpy as np\n",
    "import matplotlib.pyplot as plt\n",
    "from proj1_helpers import *\n",
    "from data_cleaning import *\n",
    "import implementations as imp\n",
    "import plots\n",
    "import matplotlib.pyplot as plt\n",
    "%load_ext autoreload\n",
    "%autoreload 2\n",
    "\n",
    "COLUMN_TO_DROP = 22"
   ]
  },
  {
   "cell_type": "markdown",
   "metadata": {},
   "source": [
    "# Import data"
   ]
  },
  {
   "cell_type": "code",
   "execution_count": null,
   "metadata": {},
   "outputs": [],
   "source": [
    "y_train, x_train, ids_train = load_csv_data(\"../data/train.csv\")\n",
    "y_test, x_test, ids_test = load_csv_data(\"../data/test.csv\")"
   ]
  },
  {
   "cell_type": "code",
   "execution_count": null,
   "metadata": {},
   "outputs": [],
   "source": [
    "x_train.shape"
   ]
  },
  {
   "cell_type": "markdown",
   "metadata": {},
   "source": [
    "# Clean data and add features"
   ]
  },
  {
   "cell_type": "code",
   "execution_count": null,
   "metadata": {},
   "outputs": [],
   "source": [
    "NUM_JETS = 4\n",
    "\n",
    "PRI_jet_num_train = np.array([x_train[:, COLUMN_TO_DROP]]).astype(int)\n",
    "print(PRI_jet_num_train)\n",
    "del_x_train = np.delete(x_train, COLUMN_TO_DROP, axis=1)\n",
    "print(del_x_train.shape)\n",
    "\n",
    "replaced_x_train = replace_undefined_with_mean(del_x_train, UNDEFINED_VALUE)\n",
    "\n",
    "norm_x_train, train_data_mean, train_data_std = mean_std_normalization(replaced_x_train)\n",
    "\n",
    "print(norm_x_train[0][0])\n",
    "print(norm_x_train.shape)"
   ]
  },
  {
   "cell_type": "markdown",
   "metadata": {},
   "source": [
    "# Do the same for the test data"
   ]
  },
  {
   "cell_type": "code",
   "execution_count": null,
   "metadata": {},
   "outputs": [],
   "source": [
    "PRI_jet_num_test = np.array([x_test[:, COLUMN_TO_DROP]]).astype(int)\n",
    "print(PRI_jet_num_test)\n",
    "print(PRI_jet_num_test.shape)\n",
    "del_x_test = np.delete(x_test, COLUMN_TO_DROP, axis=1)\n",
    "print(del_x_test.shape)\n",
    "\n",
    "replaced_x_test = replace_undefined_with_mean(del_x_test, UNDEFINED_VALUE)\n",
    "\n",
    "norm_x_test, test_data_mean, test_data_std = mean_std_normalization(replaced_x_test, train_data_mean, train_data_std)\n",
    "print(norm_x_test[0][0])\n",
    "print(norm_x_test.shape)"
   ]
  },
  {
   "cell_type": "markdown",
   "metadata": {},
   "source": [
    "# Make and train model\n",
    "### GD"
   ]
  },
  {
   "cell_type": "code",
   "execution_count": null,
   "metadata": {},
   "outputs": [],
   "source": [
    "gamma = 0.1\n",
    "max_iters = 100\n",
    "_, initial_w = imp.least_squares(y_train, norm_x_train)\n",
    "#initial_w = np.zeros(norm_x_train.shape[1], dtype=np.float64)\n",
    "\n",
    "gd_loss, gd_weights = imp.least_squares_SGD(y_train, norm_x_train, initial_w, max_iters, gamma)\n",
    "gd_loss"
   ]
  },
  {
   "cell_type": "code",
   "execution_count": null,
   "metadata": {},
   "outputs": [],
   "source": [
    "y_validation = predict_labels(gd_weights, norm_x_test)\n",
    "score = sum(y_validation == y_test)/len(y_test)\n",
    "score"
   ]
  },
  {
   "cell_type": "code",
   "execution_count": null,
   "metadata": {
    "scrolled": true
   },
   "outputs": [],
   "source": [
    "gamma_list = [0.0001,0.001, 0.01, 0.1]\n",
    "degree_list = range(8,9)\n",
    "max_iters = 100\n",
    "seed = 1\n",
    "ratio = 0.8\n",
    "\n",
    "best_gamma = np.zeros(4)\n",
    "best_score = np.zeros(4)\n",
    "best_degree = np.zeros(4)\n",
    "all_scores = np.zeros([len(gamma_list), len(degree_list)])\n",
    "g = 0\n",
    "d = 0\n",
    "\n",
    "for degree in degree_list:\n",
    "    print(\"Running with degree = {}\".format(degree))\n",
    "    for i in range(NUM_JETS):\n",
    "        curr_x = norm_x_train[PRI_jet_num_train[0,:]==i]\n",
    "        curr_y = y_train[PRI_jet_num_train[0,:]==i]\n",
    "        \n",
    "        (tr_x, tr_y, te_x,te_y) = split_data(curr_x, curr_y, ratio, seed)\n",
    "        \n",
    "        px_tr = create_poly_features(tr_x, degree)\n",
    "        px_te = create_poly_features(te_x, degree)\n",
    "        g = 0\n",
    "        for gamma in gamma_list:\n",
    "            _, initial_w = imp.least_squares(tr_y, px_tr)\n",
    "\n",
    "            gd_loss, gd_weights = imp.least_squares_GD(tr_y, px_tr, initial_w, max_iters, gamma)\n",
    "\n",
    "            y_validation = predict_labels(gd_weights, px_te)\n",
    "            score = sum(y_validation == te_y)/len(te_y)\n",
    "\n",
    "            if score > best_score[i]:\n",
    "                best_gamma[i] = gamma\n",
    "                best_degree[i] = degree\n",
    "                best_score[i] = score\n",
    "            all_scores[g,d] = all_scores[g,d] + score*sum(PRI_jet_num_train[0,:]==i)/len(norm_x_train)\n",
    "            g = g+1\n",
    "    d = d+1\n",
    "        \n"
   ]
  },
  {
   "cell_type": "code",
   "execution_count": null,
   "metadata": {
    "scrolled": false
   },
   "outputs": [],
   "source": [
    "#calc actual score\n",
    "actual_score = 0\n",
    "for i in range(NUM_JETS):\n",
    "    actual_score = actual_score + best_score[i]*sum(PRI_jet_num_train[0,:]==i)/len(norm_x_train)\n",
    "\n",
    "print(actual_score)"
   ]
  },
  {
   "cell_type": "markdown",
   "metadata": {},
   "source": [
    "### SGD"
   ]
  },
  {
   "cell_type": "code",
   "execution_count": null,
   "metadata": {},
   "outputs": [],
   "source": [
    "gamma = 0.1\n",
    "max_iters = 50\n",
    "initial_w = np.zeros(new_x_train.shape[1], dtype=np.float64)\n",
    "batch_size = int(np.floor(new_x_train.shape[0] / 100))\n",
    "\n",
    "# Training\n",
    "sgd_loss, sgd_weights = imp.least_squares_SGD(y_train, new_x_train, initial_w, max_iters, gamma, batch_size)"
   ]
  },
  {
   "cell_type": "code",
   "execution_count": null,
   "metadata": {
    "scrolled": false
   },
   "outputs": [],
   "source": [
    "# Plot\n",
    "plt.subplots(figsize=(20,10))\n",
    "plt.plot(sgd_loss)\n",
    "plt.legend([\"Training loss\"])\n",
    "plt.grid()\n",
    "plt.title(\"Loss for Stochastic Gradient Decent\")\n",
    "plt.xlabel(\"Iteration number\")\n",
    "plt.ylabel(\"MSE\")\n",
    "plt.show()"
   ]
  },
  {
   "cell_type": "markdown",
   "metadata": {},
   "source": [
    "### Testing"
   ]
  },
  {
   "cell_type": "code",
   "execution_count": null,
   "metadata": {},
   "outputs": [],
   "source": [
    "y_pred = predict_labels(sgd_weights[-1], new_x_test)\n",
    "n = len(y_pred)\n",
    "correct = 0\n",
    "for i in range(n):\n",
    "    if (y_pred[i] == y_test[i]):\n",
    "        correct += 1\n",
    "print(str(correct) + \" of \" + str(n) + \" correct, precentage: \" + str(correct/n)) "
   ]
  },
  {
   "cell_type": "code",
   "execution_count": null,
   "metadata": {},
   "outputs": [],
   "source": [
    "def logistic_regression(y, tx, initial_w, max_iters, gamma):\n",
    "\n",
    "    ws = [initial_w]\n",
    "    losses = []\n",
    "    w = initial_w\n",
    "    loss = 0\n",
    "    #threshold = 1e-8\n",
    "    for n_iter in range(max_iters):\n",
    "        loss = sum(sum(np.logaddexp(0, tx.dot(w)) - y*(tx.dot(w))))\n",
    "        prediction = sigmoid(tx.dot(w))\n",
    "        gradient = tx.T.dot(prediction - y)\n",
    "\n",
    "        # gradient w by descent update\n",
    "        w = w - (gamma * gradient)\n",
    "        ws.append(w)\n",
    "        losses.append(loss)\n",
    "\n",
    "        #if (len(losses) > 1 and np.abs(losses[-1] - losses[-2]) < threshold):\n",
    "        #   break\n",
    "\n",
    "    #finds best parameters\n",
    "    min_ind = np.argmin(losses)\n",
    "    loss = losses[min_ind]\n",
    "    w = ws[min_ind][:]\n",
    "    \n",
    "    return w, loss"
   ]
  }
 ],
 "metadata": {
  "kernelspec": {
   "display_name": "Python [default]",
   "language": "python",
   "name": "python3"
  },
  "language_info": {
   "codemirror_mode": {
    "name": "ipython",
    "version": 3
   },
   "file_extension": ".py",
   "mimetype": "text/x-python",
   "name": "python",
   "nbconvert_exporter": "python",
   "pygments_lexer": "ipython3",
   "version": "3.7.0"
  }
 },
 "nbformat": 4,
 "nbformat_minor": 2
}
