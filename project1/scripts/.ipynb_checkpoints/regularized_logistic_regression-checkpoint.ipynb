{
 "cells": [
  {
   "cell_type": "markdown",
   "metadata": {},
   "source": [
    "## Imports"
   ]
  },
  {
   "cell_type": "code",
   "execution_count": 59,
   "metadata": {},
   "outputs": [
    {
     "name": "stdout",
     "output_type": "stream",
     "text": [
      "The autoreload extension is already loaded. To reload it, use:\n",
      "  %reload_ext autoreload\n"
     ]
    }
   ],
   "source": [
    "%matplotlib inline\n",
    "import numpy as np\n",
    "import matplotlib.pyplot as plt\n",
    "from proj1_helpers import *\n",
    "from data_cleaning import *\n",
    "import implementations as imp\n",
    "import plots\n",
    "import matplotlib.pyplot as plt\n",
    "%load_ext autoreload\n",
    "%autoreload 2\n",
    "\n",
    "COLUMN_TO_DROP = 22"
   ]
  },
  {
   "cell_type": "markdown",
   "metadata": {},
   "source": [
    "## Load Data"
   ]
  },
  {
   "cell_type": "code",
   "execution_count": 60,
   "metadata": {},
   "outputs": [],
   "source": [
    "y_train, x_train, ids_train = load_csv_data(\"../data/train.csv\")\n",
    "y_test, x_test, ids_test = load_csv_data(\"../data/test.csv\")"
   ]
  },
  {
   "cell_type": "code",
   "execution_count": 61,
   "metadata": {},
   "outputs": [
    {
     "data": {
      "text/plain": [
       "(250000, 30)"
      ]
     },
     "execution_count": 61,
     "metadata": {},
     "output_type": "execute_result"
    }
   ],
   "source": [
    "x_train.shape"
   ]
  },
  {
   "cell_type": "markdown",
   "metadata": {},
   "source": [
    "## Clean Data and Add Features"
   ]
  },
  {
   "cell_type": "code",
   "execution_count": 23,
   "metadata": {},
   "outputs": [
    {
     "name": "stdout",
     "output_type": "stream",
     "text": [
      "(1, 250000)\n",
      "(250000, 29)\n",
      "\n",
      "138.47\n",
      "(250000, 87)\n",
      "\n",
      "0.5132216131919056\n",
      "(250000, 87)\n",
      "\n",
      "(250000, 88)\n"
     ]
    }
   ],
   "source": [
    "PRI_jet_num = np.array([x_train[:, COLUMN_TO_DROP]])\n",
    "print(PRI_jet_num.shape)\n",
    "del_x_train = np.delete(x_train, COLUMN_TO_DROP, axis=1)\n",
    "print(del_x_train.shape)\n",
    "\n",
    "print()\n",
    "\n",
    "replaced_x_train = replace_undefined(del_x_train, UNDEFINED_VALUE, 0.0)\n",
    "poly_x_train = create_poly_features(replaced_x_train, 3)\n",
    "print(poly_x_train[0][0])\n",
    "print(poly_x_train.shape)\n",
    "\n",
    "print()\n",
    "\n",
    "norm_x_train, train_data_mean, train_data_std = mean_std_normalization(poly_x_train)\n",
    "print(norm_x_train[0][0])\n",
    "print(norm_x_train.shape)\n",
    "\n",
    "print()\n",
    "\n",
    "new_x_train = np.concatenate((norm_x_train, PRI_jet_num.T), axis=1)\n",
    "print(new_x_train.shape)"
   ]
  },
  {
   "cell_type": "markdown",
   "metadata": {},
   "source": [
    "## Do the Same for the Test Data"
   ]
  },
  {
   "cell_type": "code",
   "execution_count": 35,
   "metadata": {},
   "outputs": [
    {
     "name": "stdout",
     "output_type": "stream",
     "text": [
      "[[0. 1. 0. ... 0. 1. 0.]]\n",
      "(1, 568238)\n",
      "(250000, 29)\n",
      "\n",
      "0.0\n",
      "(568238, 87)\n",
      "\n",
      "-1.5062934468989264\n",
      "(568238, 87)\n",
      "\n",
      "(568238, 88)\n"
     ]
    }
   ],
   "source": [
    "PRI_jet_num = np.array([x_test[:, COLUMN_TO_DROP]])\n",
    "print(PRI_jet_num[0:5])\n",
    "print(PRI_jet_num.shape)\n",
    "del_x_test = np.delete(x_test, COLUMN_TO_DROP, axis=1)\n",
    "print(del_x_train.shape)\n",
    "\n",
    "print()\n",
    "\n",
    "replaced_x_test = replace_undefined(del_x_test, UNDEFINED_VALUE, 0.0)\n",
    "poly_x_test = create_poly_features(replaced_x_test, 3)\n",
    "print(poly_x_test[0][0])\n",
    "print(poly_x_test.shape)\n",
    "\n",
    "print()\n",
    "\n",
    "norm_x_test, test_data_mean, test_data_std = mean_std_normalization(poly_x_test, train_data_mean, train_data_std)\n",
    "print(norm_x_test[0][0])\n",
    "print(norm_x_test.shape)\n",
    "\n",
    "print()\n",
    "\n",
    "new_x_test = np.concatenate((norm_x_test, PRI_jet_num.T), axis=1)\n",
    "print(new_x_test.shape)"
   ]
  },
  {
   "cell_type": "markdown",
   "metadata": {},
   "source": [
    "## Make and Train Model"
   ]
  },
  {
   "cell_type": "markdown",
   "metadata": {},
   "source": [
    "### Regularized Logistic Regression"
   ]
  },
  {
   "cell_type": "code",
   "execution_count": 91,
   "metadata": {},
   "outputs": [],
   "source": [
    "gamma = 0.5\n",
    "lambda_ = 0.542\n",
    "max_iters = 100\n",
    "seed = 1\n",
    "ratio = 0.8\n",
    "initial_w = np.ones(new_x_train.shape[1], dtype=np.float64)\n",
    "\n",
    "# Traning and validation set\n",
    "(tr_x, tr_y, val_x, val_y) = split_data(new_x_train, y_train, ratio, seed)\n",
    "\n",
    "# Training\n",
    "#lambdas = [0.540, 0.541, 0.542, 0.543, 0.544]\n",
    "#for lambda_ in lambdas:\n",
    "reg_log_reg_loss, reg_log_reg_weight = imp.reg_logistic_regression(tr_y, tr_x, lambda_, initial_w, max_iters, gamma)\n",
    "#    print(lambda_)\n",
    "#    print(reg_log_reg_loss)"
   ]
  },
  {
   "cell_type": "code",
   "execution_count": 39,
   "metadata": {},
   "outputs": [
    {
     "data": {
      "text/plain": [
       "array([1.00000000e-05, 2.27584593e-05, 5.17947468e-05, 1.17876863e-04,\n",
       "       2.68269580e-04, 6.10540230e-04, 1.38949549e-03, 3.16227766e-03,\n",
       "       7.19685673e-03, 1.63789371e-02, 3.72759372e-02, 8.48342898e-02,\n",
       "       1.93069773e-01, 4.39397056e-01, 1.00000000e+00])"
      ]
     },
     "execution_count": 39,
     "metadata": {},
     "output_type": "execute_result"
    }
   ],
   "source": [
    "np.logspace(-5, 0, 15)"
   ]
  },
  {
   "cell_type": "markdown",
   "metadata": {},
   "source": [
    "### Plot"
   ]
  },
  {
   "cell_type": "code",
   "execution_count": 28,
   "metadata": {},
   "outputs": [],
   "source": [
    "#plt.subplots(figsize=(20,10))\n",
    "#plt.plot(reg_log_reg_loss)\n",
    "#plt.legend([\"Training loss\"])\n",
    "#plt.grid()\n",
    "#plt.title(\"Loss for Regularized Logistic Descent\")\n",
    "#plt.xlabel(\"Iteration number\")\n",
    "#plt.ylabel(\"Error\")\n",
    "#plt.show()"
   ]
  },
  {
   "cell_type": "markdown",
   "metadata": {},
   "source": [
    "### Testing"
   ]
  },
  {
   "cell_type": "code",
   "execution_count": 92,
   "metadata": {},
   "outputs": [
    {
     "name": "stdout",
     "output_type": "stream",
     "text": [
      "34142 of 50000 correct, precentage: 0.68284\n"
     ]
    }
   ],
   "source": [
    "y_pred = predict_labels(reg_log_reg_weight, val_x)\n",
    "n = len(y_pred)\n",
    "correct = 0\n",
    "for i in range(n):\n",
    "    if (y_pred[i] == val_y[i]):\n",
    "        correct += 1\n",
    "print(str(correct) + \" of \" + str(n) + \" correct, precentage: \" + str(correct/n)) "
   ]
  },
  {
   "cell_type": "code",
   "execution_count": null,
   "metadata": {},
   "outputs": [],
   "source": []
  }
 ],
 "metadata": {
  "kernelspec": {
   "display_name": "Python 3",
   "language": "python",
   "name": "python3"
  },
  "language_info": {
   "codemirror_mode": {
    "name": "ipython",
    "version": 3
   },
   "file_extension": ".py",
   "mimetype": "text/x-python",
   "name": "python",
   "nbconvert_exporter": "python",
   "pygments_lexer": "ipython3",
   "version": "3.6.5"
  }
 },
 "nbformat": 4,
 "nbformat_minor": 2
}
