{
 "cells": [
  {
   "cell_type": "markdown",
   "metadata": {},
   "source": [
    "## Imports"
   ]
  },
  {
   "cell_type": "code",
   "execution_count": 10,
   "metadata": {},
   "outputs": [
    {
     "name": "stdout",
     "output_type": "stream",
     "text": [
      "The autoreload extension is already loaded. To reload it, use:\n",
      "  %reload_ext autoreload\n"
     ]
    }
   ],
   "source": [
    "%matplotlib inline\n",
    "import numpy as np\n",
    "import matplotlib.pyplot as plt\n",
    "from proj1_helpers import *\n",
    "from data_cleaning import *\n",
    "import implementations as imp\n",
    "import plots\n",
    "import matplotlib.pyplot as plt\n",
    "%load_ext autoreload\n",
    "%autoreload 2\n",
    "\n",
    "COLUMN_TO_DROP = 22"
   ]
  },
  {
   "cell_type": "markdown",
   "metadata": {},
   "source": [
    "## Load Data"
   ]
  },
  {
   "cell_type": "code",
   "execution_count": 15,
   "metadata": {},
   "outputs": [],
   "source": [
    "y_train, x_train, ids_train = load_csv_data(\"../data/train.csv\")\n",
    "y_test, x_test, ids_test = load_csv_data(\"../data/test.csv\")"
   ]
  },
  {
   "cell_type": "code",
   "execution_count": 17,
   "metadata": {},
   "outputs": [
    {
     "data": {
      "text/plain": [
       "(250000, 30)"
      ]
     },
     "execution_count": 17,
     "metadata": {},
     "output_type": "execute_result"
    }
   ],
   "source": [
    "x_train.shape"
   ]
  },
  {
   "cell_type": "markdown",
   "metadata": {},
   "source": [
    "## Clean Data and Add Features"
   ]
  },
  {
   "cell_type": "code",
   "execution_count": 18,
   "metadata": {},
   "outputs": [
    {
     "name": "stdout",
     "output_type": "stream",
     "text": [
      "(1, 250000)\n",
      "(250000, 29)\n",
      "\n",
      "138.47\n",
      "(250000, 87)\n",
      "\n",
      "0.5132216131919056\n",
      "(250000, 87)\n",
      "\n",
      "(250000, 88)\n"
     ]
    }
   ],
   "source": [
    "PRI_jet_num = np.array([x_train[:, COLUMN_TO_DROP]])\n",
    "print(PRI_jet_num.shape)\n",
    "del_x_train = np.delete(x_train, COLUMN_TO_DROP, axis=1)\n",
    "print(del_x_train.shape)\n",
    "\n",
    "print()\n",
    "\n",
    "replaced_x_train = replace_undefined(del_x_train, UNDEFINED_VALUE, 0.0)\n",
    "poly_x_train = create_poly_features(replaced_x_train, 3)\n",
    "print(poly_x_train[0][0])\n",
    "print(poly_x_train.shape)\n",
    "\n",
    "print()\n",
    "\n",
    "norm_x_train, train_data_mean, train_data_std = mean_std_normalization(poly_x_train)\n",
    "print(norm_x_train[0][0])\n",
    "print(norm_x_train.shape)\n",
    "\n",
    "print()\n",
    "\n",
    "new_x_train = np.concatenate((norm_x_train, PRI_jet_num.T), axis=1)\n",
    "print(new_x_train.shape)"
   ]
  },
  {
   "cell_type": "markdown",
   "metadata": {},
   "source": [
    "## Do the Same for the Test Data"
   ]
  },
  {
   "cell_type": "code",
   "execution_count": 19,
   "metadata": {},
   "outputs": [
    {
     "name": "stdout",
     "output_type": "stream",
     "text": [
      "[[0. 1. 0. ... 0. 1. 0.]]\n",
      "(1, 568238)\n",
      "(250000, 29)\n",
      "\n",
      "0.0\n",
      "(568238, 87)\n",
      "\n",
      "-1.0\n",
      "(568238, 87)\n",
      "\n",
      "(568238, 88)\n"
     ]
    }
   ],
   "source": [
    "PRI_jet_num = np.array([x_test[:, COLUMN_TO_DROP]])\n",
    "print(PRI_jet_num[0:5])\n",
    "print(PRI_jet_num.shape)\n",
    "del_x_test = np.delete(x_test, COLUMN_TO_DROP, axis=1)\n",
    "print(del_x_train.shape)\n",
    "\n",
    "print()\n",
    "\n",
    "replaced_x_test = replace_undefined(del_x_test, UNDEFINED_VALUE, 0.0)\n",
    "poly_x_test = create_poly_features(replaced_x_test, 3)\n",
    "print(poly_x_test[0][0])\n",
    "print(poly_x_test.shape)\n",
    "\n",
    "print()\n",
    "\n",
    "norm_x_test, test_data_mean, test_data_std = mean_std_normalization(poly_x_test, train_data_mean, train_data_mean)\n",
    "print(norm_x_test[0][0])\n",
    "print(norm_x_test.shape)\n",
    "\n",
    "print()\n",
    "\n",
    "new_x_test = np.concatenate((norm_x_test, PRI_jet_num.T), axis=1)\n",
    "print(new_x_test.shape)"
   ]
  },
  {
   "cell_type": "markdown",
   "metadata": {},
   "source": [
    "## Make and Train Model"
   ]
  },
  {
   "cell_type": "markdown",
   "metadata": {},
   "source": [
    "### Regularized Logistic Regression"
   ]
  },
  {
   "cell_type": "code",
   "execution_count": 26,
   "metadata": {},
   "outputs": [
    {
     "name": "stderr",
     "output_type": "stream",
     "text": [
      "C:\\Users\\Mimmi\\Mimmi\\EPFL\\ML\\Prosjekt 1\\CS-433---Machine-Learning\\project1\\scripts\\proj1_helpers.py:124: RuntimeWarning: divide by zero encountered in log\n",
      "  loss = np.transpose(y).dot(np.log(z_logistic)) + np.transpose(1 - y).dot(np.log(1 - z_logistic))\n"
     ]
    }
   ],
   "source": [
    "gamma = 0.1\n",
    "lambda_ = 0.5\n",
    "max_iters = 100\n",
    "seed = 1\n",
    "ratio = 0.8\n",
    "initial_w = np.ones(new_x_train.shape[1], dtype=np.float64)\n",
    "\n",
    "# Traning and validation set\n",
    "(tr_x, tr_y, val_x, val_y) = split_data(new_x_train, y_train, ratio, seed)\n",
    "\n",
    "# Training\n",
    "reg_log__reg_loss, reg_log_reg_weight = imp.reg_logistic_regression(tr_y, tr_x, lambda_, initial_w, max_iters, gamma)"
   ]
  },
  {
   "cell_type": "code",
   "execution_count": null,
   "metadata": {},
   "outputs": [],
   "source": []
  }
 ],
 "metadata": {
  "kernelspec": {
   "display_name": "Python 3",
   "language": "python",
   "name": "python3"
  },
  "language_info": {
   "codemirror_mode": {
    "name": "ipython",
    "version": 3
   },
   "file_extension": ".py",
   "mimetype": "text/x-python",
   "name": "python",
   "nbconvert_exporter": "python",
   "pygments_lexer": "ipython3",
   "version": "3.6.5"
  }
 },
 "nbformat": 4,
 "nbformat_minor": 2
}
